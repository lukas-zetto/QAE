{
 "cells": [
  {
   "cell_type": "code",
   "execution_count": 13,
   "id": "6ed4b660",
   "metadata": {},
   "outputs": [
    {
     "name": "stdout",
     "output_type": "stream",
     "text": [
      "✅ Saved filtered dataset with 5 features to 'filtered_5_features.csv'\n"
     ]
    }
   ],
   "source": [
    "import pandas as pd\n",
    "\n",
    "# Define the full list of column names in order\n",
    "all_columns = [\n",
    "    'cpu_r','load_1','load_5','load_15','mem_shmem','mem_u','mem_u_e','total_mem',\n",
    "    'disk_q','disk_r','disk_rb','disk_svc','disk_u','disk_w','disk_wa','disk_wb',\n",
    "    'si','so','eth1_fi','eth1_fo','eth1_pi','eth1_po','tcp_tw','tcp_use',\n",
    "    'active_opens','curr_estab','in_errs','in_segs','listen_overflows','out_rsts',\n",
    "    'out_segs','passive_opens','retranssegs','tcp_timeouts','udp_in_dg',\n",
    "    'udp_out_dg','udp_rcv_buf_errs','udp_snd_buf_errs'\n",
    "]\n",
    "\n",
    "# Columns you want to keep\n",
    "selected_columns = ['load_1', 'disk_r', 'disk_svc', 'disk_w', 'disk_wb']\n",
    "\n",
    "# Load the CSV and assign full headers\n",
    "df = pd.read_csv('machine-1-2.csv', header=None, names=all_columns)\n",
    "\n",
    "# Filter to just the selected columns\n",
    "filtered_df = df[selected_columns]\n",
    "\n",
    "# Save to a new CSV\n",
    "filtered_df.to_csv('filtered_5_features_2.csv', index=False)\n",
    "\n",
    "print(\"✅ Saved filtered dataset with 5 features to 'filtered_5_features.csv'\")\n",
    "\n",
    "\n",
    "\n"
   ]
  }
 ],
 "metadata": {
  "kernelspec": {
   "display_name": "Python 3",
   "language": "python",
   "name": "python3"
  },
  "language_info": {
   "codemirror_mode": {
    "name": "ipython",
    "version": 3
   },
   "file_extension": ".py",
   "mimetype": "text/x-python",
   "name": "python",
   "nbconvert_exporter": "python",
   "pygments_lexer": "ipython3",
   "version": "3.12.0"
  }
 },
 "nbformat": 4,
 "nbformat_minor": 5
}
